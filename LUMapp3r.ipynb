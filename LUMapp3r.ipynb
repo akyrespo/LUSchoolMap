{
  "nbformat": 4,
  "nbformat_minor": 0,
  "metadata": {
    "colab": {
      "provenance": [],
      "mount_file_id": "1pcYtH0u08wj9YtTAD3RRxuvwNyIK8ldD",
      "authorship_tag": "ABX9TyPrJ3+gE3VWF0Fow+4YuR6k",
      "include_colab_link": true
    },
    "kernelspec": {
      "name": "python3",
      "display_name": "Python 3"
    },
    "language_info": {
      "name": "python"
    }
  },
  "cells": [
    {
      "cell_type": "markdown",
      "metadata": {
        "id": "view-in-github",
        "colab_type": "text"
      },
      "source": [
        "<a href=\"https://colab.research.google.com/github/akyrespo/LUSchoolMap/blob/main/LUMapp3r.ipynb\" target=\"_parent\"><img src=\"https://colab.research.google.com/assets/colab-badge.svg\" alt=\"Open In Colab\"/></a>"
      ]
    },
    {
      "cell_type": "code",
      "execution_count": 1,
      "metadata": {
        "id": "KMW6djAsxojn"
      },
      "outputs": [],
      "source": [
        "import folium\n",
        "from folium import plugins\n",
        "import pandas as pd\n",
        "\n",
        "import ipywidgets\n",
        "import os\n",
        "import json\n"
      ]
    },
    {
      "cell_type": "code",
      "source": [
        "!git clone https://github.com/akyrespo/LUSchoolMap.git"
      ],
      "metadata": {
        "colab": {
          "base_uri": "https://localhost:8080/"
        },
        "id": "GM-QNboBjEMw",
        "outputId": "e66b4fc9-cc4e-4ade-9ccb-972f68020821"
      },
      "execution_count": 3,
      "outputs": [
        {
          "output_type": "stream",
          "name": "stdout",
          "text": [
            "Cloning into 'LUSchoolMap'...\n",
            "remote: Enumerating objects: 109, done.\u001b[K\n",
            "remote: Counting objects: 100% (109/109), done.\u001b[K\n",
            "remote: Compressing objects: 100% (109/109), done.\u001b[K\n",
            "remote: Total 109 (delta 17), reused 0 (delta 0), pack-reused 0 (from 0)\u001b[K\n",
            "Receiving objects: 100% (109/109), 42.02 KiB | 1.17 MiB/s, done.\n",
            "Resolving deltas: 100% (17/17), done.\n"
          ]
        }
      ]
    },
    {
      "cell_type": "code",
      "source": [
        "UMMlocation = (14.2555,121.4036)\n",
        "map_UMM = folium.Map(location = UMMlocation, width = \"100%\", zoom_start = 17) # max zoom: 18\n",
        "map_UMM"
      ],
      "metadata": {
        "colab": {
          "base_uri": "https://localhost:8080/",
          "height": 784
        },
        "id": "5AIBfanjyRGi",
        "outputId": "f431824d-8402-406e-9ab5-3a0d36bb5dd6"
      },
      "execution_count": 14,
      "outputs": [
        {
          "output_type": "execute_result",
          "data": {
            "text/plain": [
              "<folium.folium.Map at 0x7e9a297e1ae0>"
            ],
            "text/html": [
              "<div style=\"width:100%;\"><div style=\"position:relative;width:100%;height:0;padding-bottom:60%;\"><span style=\"color:#565656\">Make this Notebook Trusted to load map: File -> Trust Notebook</span><iframe srcdoc=\"&lt;!DOCTYPE html&gt;\n",
              "&lt;html&gt;\n",
              "&lt;head&gt;\n",
              "    \n",
              "    &lt;meta http-equiv=&quot;content-type&quot; content=&quot;text/html; charset=UTF-8&quot; /&gt;\n",
              "    \n",
              "        &lt;script&gt;\n",
              "            L_NO_TOUCH = false;\n",
              "            L_DISABLE_3D = false;\n",
              "        &lt;/script&gt;\n",
              "    \n",
              "    &lt;style&gt;html, body {width: 100%;height: 100%;margin: 0;padding: 0;}&lt;/style&gt;\n",
              "    &lt;style&gt;#map {position:absolute;top:0;bottom:0;right:0;left:0;}&lt;/style&gt;\n",
              "    &lt;script src=&quot;https://cdn.jsdelivr.net/npm/leaflet@1.9.3/dist/leaflet.js&quot;&gt;&lt;/script&gt;\n",
              "    &lt;script src=&quot;https://code.jquery.com/jquery-3.7.1.min.js&quot;&gt;&lt;/script&gt;\n",
              "    &lt;script src=&quot;https://cdn.jsdelivr.net/npm/bootstrap@5.2.2/dist/js/bootstrap.bundle.min.js&quot;&gt;&lt;/script&gt;\n",
              "    &lt;script src=&quot;https://cdnjs.cloudflare.com/ajax/libs/Leaflet.awesome-markers/2.0.2/leaflet.awesome-markers.js&quot;&gt;&lt;/script&gt;\n",
              "    &lt;link rel=&quot;stylesheet&quot; href=&quot;https://cdn.jsdelivr.net/npm/leaflet@1.9.3/dist/leaflet.css&quot;/&gt;\n",
              "    &lt;link rel=&quot;stylesheet&quot; href=&quot;https://cdn.jsdelivr.net/npm/bootstrap@5.2.2/dist/css/bootstrap.min.css&quot;/&gt;\n",
              "    &lt;link rel=&quot;stylesheet&quot; href=&quot;https://netdna.bootstrapcdn.com/bootstrap/3.0.0/css/bootstrap-glyphicons.css&quot;/&gt;\n",
              "    &lt;link rel=&quot;stylesheet&quot; href=&quot;https://cdn.jsdelivr.net/npm/@fortawesome/fontawesome-free@6.2.0/css/all.min.css&quot;/&gt;\n",
              "    &lt;link rel=&quot;stylesheet&quot; href=&quot;https://cdnjs.cloudflare.com/ajax/libs/Leaflet.awesome-markers/2.0.2/leaflet.awesome-markers.css&quot;/&gt;\n",
              "    &lt;link rel=&quot;stylesheet&quot; href=&quot;https://cdn.jsdelivr.net/gh/python-visualization/folium/folium/templates/leaflet.awesome.rotate.min.css&quot;/&gt;\n",
              "    \n",
              "            &lt;meta name=&quot;viewport&quot; content=&quot;width=device-width,\n",
              "                initial-scale=1.0, maximum-scale=1.0, user-scalable=no&quot; /&gt;\n",
              "            &lt;style&gt;\n",
              "                #map_733f1532051938a9ad6fa071503d9f00 {\n",
              "                    position: relative;\n",
              "                    width: 100.0%;\n",
              "                    height: 100.0%;\n",
              "                    left: 0.0%;\n",
              "                    top: 0.0%;\n",
              "                }\n",
              "                .leaflet-container { font-size: 1rem; }\n",
              "            &lt;/style&gt;\n",
              "        \n",
              "&lt;/head&gt;\n",
              "&lt;body&gt;\n",
              "    \n",
              "    \n",
              "            &lt;div class=&quot;folium-map&quot; id=&quot;map_733f1532051938a9ad6fa071503d9f00&quot; &gt;&lt;/div&gt;\n",
              "        \n",
              "&lt;/body&gt;\n",
              "&lt;script&gt;\n",
              "    \n",
              "    \n",
              "            var map_733f1532051938a9ad6fa071503d9f00 = L.map(\n",
              "                &quot;map_733f1532051938a9ad6fa071503d9f00&quot;,\n",
              "                {\n",
              "                    center: [14.2555, 121.4036],\n",
              "                    crs: L.CRS.EPSG3857,\n",
              "                    zoom: 17,\n",
              "                    zoomControl: true,\n",
              "                    preferCanvas: false,\n",
              "                }\n",
              "            );\n",
              "\n",
              "            \n",
              "\n",
              "        \n",
              "    \n",
              "            var tile_layer_4eaaab99b0e75efb454e4c2d73d76613 = L.tileLayer(\n",
              "                &quot;https://tile.openstreetmap.org/{z}/{x}/{y}.png&quot;,\n",
              "                {&quot;attribution&quot;: &quot;\\u0026copy; \\u003ca href=\\&quot;https://www.openstreetmap.org/copyright\\&quot;\\u003eOpenStreetMap\\u003c/a\\u003e contributors&quot;, &quot;detectRetina&quot;: false, &quot;maxNativeZoom&quot;: 19, &quot;maxZoom&quot;: 19, &quot;minZoom&quot;: 0, &quot;noWrap&quot;: false, &quot;opacity&quot;: 1, &quot;subdomains&quot;: &quot;abc&quot;, &quot;tms&quot;: false}\n",
              "            );\n",
              "        \n",
              "    \n",
              "            tile_layer_4eaaab99b0e75efb454e4c2d73d76613.addTo(map_733f1532051938a9ad6fa071503d9f00);\n",
              "        \n",
              "&lt;/script&gt;\n",
              "&lt;/html&gt;\" style=\"position:absolute;width:100%;height:100%;left:0;top:0;border:none !important;\" allowfullscreen webkitallowfullscreen mozallowfullscreen></iframe></div></div>"
            ]
          },
          "metadata": {},
          "execution_count": 14
        }
      ]
    },
    {
      "cell_type": "code",
      "source": [
        "hauseOutline = 'LUSchoolMap/GeoResources/Adminbuilding.geojson'\n",
        "display(folium.GeoJson(hauseOutline, name=\"Adminbuilding\").add_to(map_UMM))\n",
        "display(map_UMM)"
      ],
      "metadata": {
        "colab": {
          "base_uri": "https://localhost:8080/",
          "height": 802
        },
        "id": "t2_IgTO_z5iR",
        "outputId": "499a32a0-4ba8-422c-eae8-47767f492324"
      },
      "execution_count": 15,
      "outputs": [
        {
          "output_type": "display_data",
          "data": {
            "text/plain": [
              "<folium.features.GeoJson at 0x7e9a297e1b40>"
            ]
          },
          "metadata": {}
        },
        {
          "output_type": "display_data",
          "data": {
            "text/plain": [
              "<folium.folium.Map at 0x7e9a297e1ae0>"
            ],
            "text/html": [
              "<div style=\"width:100%;\"><div style=\"position:relative;width:100%;height:0;padding-bottom:60%;\"><span style=\"color:#565656\">Make this Notebook Trusted to load map: File -> Trust Notebook</span><iframe srcdoc=\"&lt;!DOCTYPE html&gt;\n",
              "&lt;html&gt;\n",
              "&lt;head&gt;\n",
              "    \n",
              "    &lt;meta http-equiv=&quot;content-type&quot; content=&quot;text/html; charset=UTF-8&quot; /&gt;\n",
              "    \n",
              "        &lt;script&gt;\n",
              "            L_NO_TOUCH = false;\n",
              "            L_DISABLE_3D = false;\n",
              "        &lt;/script&gt;\n",
              "    \n",
              "    &lt;style&gt;html, body {width: 100%;height: 100%;margin: 0;padding: 0;}&lt;/style&gt;\n",
              "    &lt;style&gt;#map {position:absolute;top:0;bottom:0;right:0;left:0;}&lt;/style&gt;\n",
              "    &lt;script src=&quot;https://cdn.jsdelivr.net/npm/leaflet@1.9.3/dist/leaflet.js&quot;&gt;&lt;/script&gt;\n",
              "    &lt;script src=&quot;https://code.jquery.com/jquery-3.7.1.min.js&quot;&gt;&lt;/script&gt;\n",
              "    &lt;script src=&quot;https://cdn.jsdelivr.net/npm/bootstrap@5.2.2/dist/js/bootstrap.bundle.min.js&quot;&gt;&lt;/script&gt;\n",
              "    &lt;script src=&quot;https://cdnjs.cloudflare.com/ajax/libs/Leaflet.awesome-markers/2.0.2/leaflet.awesome-markers.js&quot;&gt;&lt;/script&gt;\n",
              "    &lt;link rel=&quot;stylesheet&quot; href=&quot;https://cdn.jsdelivr.net/npm/leaflet@1.9.3/dist/leaflet.css&quot;/&gt;\n",
              "    &lt;link rel=&quot;stylesheet&quot; href=&quot;https://cdn.jsdelivr.net/npm/bootstrap@5.2.2/dist/css/bootstrap.min.css&quot;/&gt;\n",
              "    &lt;link rel=&quot;stylesheet&quot; href=&quot;https://netdna.bootstrapcdn.com/bootstrap/3.0.0/css/bootstrap-glyphicons.css&quot;/&gt;\n",
              "    &lt;link rel=&quot;stylesheet&quot; href=&quot;https://cdn.jsdelivr.net/npm/@fortawesome/fontawesome-free@6.2.0/css/all.min.css&quot;/&gt;\n",
              "    &lt;link rel=&quot;stylesheet&quot; href=&quot;https://cdnjs.cloudflare.com/ajax/libs/Leaflet.awesome-markers/2.0.2/leaflet.awesome-markers.css&quot;/&gt;\n",
              "    &lt;link rel=&quot;stylesheet&quot; href=&quot;https://cdn.jsdelivr.net/gh/python-visualization/folium/folium/templates/leaflet.awesome.rotate.min.css&quot;/&gt;\n",
              "    \n",
              "            &lt;meta name=&quot;viewport&quot; content=&quot;width=device-width,\n",
              "                initial-scale=1.0, maximum-scale=1.0, user-scalable=no&quot; /&gt;\n",
              "            &lt;style&gt;\n",
              "                #map_733f1532051938a9ad6fa071503d9f00 {\n",
              "                    position: relative;\n",
              "                    width: 100.0%;\n",
              "                    height: 100.0%;\n",
              "                    left: 0.0%;\n",
              "                    top: 0.0%;\n",
              "                }\n",
              "                .leaflet-container { font-size: 1rem; }\n",
              "            &lt;/style&gt;\n",
              "        \n",
              "&lt;/head&gt;\n",
              "&lt;body&gt;\n",
              "    \n",
              "    \n",
              "            &lt;div class=&quot;folium-map&quot; id=&quot;map_733f1532051938a9ad6fa071503d9f00&quot; &gt;&lt;/div&gt;\n",
              "        \n",
              "&lt;/body&gt;\n",
              "&lt;script&gt;\n",
              "    \n",
              "    \n",
              "            var map_733f1532051938a9ad6fa071503d9f00 = L.map(\n",
              "                &quot;map_733f1532051938a9ad6fa071503d9f00&quot;,\n",
              "                {\n",
              "                    center: [14.2555, 121.4036],\n",
              "                    crs: L.CRS.EPSG3857,\n",
              "                    zoom: 17,\n",
              "                    zoomControl: true,\n",
              "                    preferCanvas: false,\n",
              "                }\n",
              "            );\n",
              "\n",
              "            \n",
              "\n",
              "        \n",
              "    \n",
              "            var tile_layer_4eaaab99b0e75efb454e4c2d73d76613 = L.tileLayer(\n",
              "                &quot;https://tile.openstreetmap.org/{z}/{x}/{y}.png&quot;,\n",
              "                {&quot;attribution&quot;: &quot;\\u0026copy; \\u003ca href=\\&quot;https://www.openstreetmap.org/copyright\\&quot;\\u003eOpenStreetMap\\u003c/a\\u003e contributors&quot;, &quot;detectRetina&quot;: false, &quot;maxNativeZoom&quot;: 19, &quot;maxZoom&quot;: 19, &quot;minZoom&quot;: 0, &quot;noWrap&quot;: false, &quot;opacity&quot;: 1, &quot;subdomains&quot;: &quot;abc&quot;, &quot;tms&quot;: false}\n",
              "            );\n",
              "        \n",
              "    \n",
              "            tile_layer_4eaaab99b0e75efb454e4c2d73d76613.addTo(map_733f1532051938a9ad6fa071503d9f00);\n",
              "        \n",
              "    \n",
              "            tile_layer_4eaaab99b0e75efb454e4c2d73d76613.addTo(map_733f1532051938a9ad6fa071503d9f00);\n",
              "        \n",
              "    \n",
              "\n",
              "        function geo_json_fb43d7e193afed69dc20e06fe0c6fe2a_onEachFeature(feature, layer) {\n",
              "            layer.on({\n",
              "            });\n",
              "        };\n",
              "        var geo_json_fb43d7e193afed69dc20e06fe0c6fe2a = L.geoJson(null, {\n",
              "                onEachFeature: geo_json_fb43d7e193afed69dc20e06fe0c6fe2a_onEachFeature,\n",
              "            \n",
              "        });\n",
              "\n",
              "        function geo_json_fb43d7e193afed69dc20e06fe0c6fe2a_add (data) {\n",
              "            geo_json_fb43d7e193afed69dc20e06fe0c6fe2a\n",
              "                .addData(data);\n",
              "        }\n",
              "            geo_json_fb43d7e193afed69dc20e06fe0c6fe2a_add({&quot;features&quot;: [{&quot;geometry&quot;: {&quot;coordinates&quot;: [[121.40946312429327, 14.254529749271072], [121.40954224325077, 14.254315036773818], [121.4100370963613, 14.254492104886836], [121.40995078477107, 14.254716576862876], [121.40945880871323, 14.254529749271072]], &quot;type&quot;: &quot;LineString&quot;}, &quot;properties&quot;: {}, &quot;type&quot;: &quot;Feature&quot;}], &quot;type&quot;: &quot;FeatureCollection&quot;});\n",
              "        geo_json_fb43d7e193afed69dc20e06fe0c6fe2a.setStyle(function(feature) {return feature.properties.style;});\n",
              "\n",
              "        \n",
              "    \n",
              "            geo_json_fb43d7e193afed69dc20e06fe0c6fe2a.addTo(map_733f1532051938a9ad6fa071503d9f00);\n",
              "        \n",
              "&lt;/script&gt;\n",
              "&lt;/html&gt;\" style=\"position:absolute;width:100%;height:100%;left:0;top:0;border:none !important;\" allowfullscreen webkitallowfullscreen mozallowfullscreen></iframe></div></div>"
            ]
          },
          "metadata": {}
        }
      ]
    },
    {
      "cell_type": "code",
      "source": [
        "testGeoJson = 'LUSchoolMap/GeoResources/path/wLU.geojson'"
      ],
      "metadata": {
        "id": "ySAo9CAGmOkn"
      },
      "execution_count": 16,
      "outputs": []
    },
    {
      "cell_type": "code",
      "source": [
        "def switchPosition(coordinate):\n",
        "  temp = coordinate[0]\n",
        "  coordinate[0] = coordinate[1]\n",
        "  coordinate[1] = temp\n",
        "  return coordinate"
      ],
      "metadata": {
        "id": "d-3nGkcJndLd"
      },
      "execution_count": 17,
      "outputs": []
    },
    {
      "cell_type": "code",
      "source": [
        "with open(testGeoJson) as f:\n",
        "  testWay = json.load(f)\n",
        "\n",
        "for feature in testWay['features']:\n",
        "    path = feature['geometry']['coordinates']\n",
        "finalPath = list(map(switchPosition,path))\n",
        "finalPath"
      ],
      "metadata": {
        "colab": {
          "base_uri": "https://localhost:8080/"
        },
        "id": "RJQpUV7Snhl2",
        "outputId": "b9f07f34-5fe1-48bf-a1a7-80ce03377175"
      },
      "execution_count": 18,
      "outputs": [
        {
          "output_type": "execute_result",
          "data": {
            "text/plain": [
              "[[14.255551421135223, 121.40053155722165],\n",
              " [14.25560218496419, 121.40065875769693],\n",
              " [14.25554900380996, 121.4006893107524],\n",
              " [14.257086268762137, 121.40483013217903],\n",
              " [14.257073577889471, 121.40491929721867],\n",
              " [14.256988972052795, 121.40498663864719],\n",
              " [14.255784554797117, 121.40548745180723],\n",
              " [14.25569544328394, 121.40551176725205],\n",
              " [14.255601176507838, 121.40555583901966],\n",
              " [14.255565184993202, 121.40564160492897],\n",
              " [14.255558047540973, 121.40572095276877],\n",
              " [14.255565412133947, 121.40582581312674],\n",
              " [14.25553151523232, 121.40583701177405],\n",
              " [14.255735781447484, 121.4063414735341],\n",
              " [14.25575730861749, 121.4063354936132],\n",
              " [14.256015012512279, 121.40715447355757],\n",
              " [14.256182433071501, 121.4076356612174],\n",
              " [14.256024079835228, 121.40775733068966],\n",
              " [14.25586572648885, 121.40791723913975],\n",
              " [14.255737696040754, 121.40816926876107],\n",
              " [14.255346685685154, 121.4082874764947],\n",
              " [14.255138884212798, 121.40836613332453],\n",
              " [14.254932312145044, 121.40843337222924],\n",
              " [14.25457062128828, 121.40863490527386],\n",
              " [14.254644943467937, 121.40884930515682],\n",
              " [14.254306701512434, 121.40900580142034]]"
            ]
          },
          "metadata": {},
          "execution_count": 18
        }
      ]
    },
    {
      "cell_type": "code",
      "source": [
        "path = 'LUSchoolMap/GeoResources/path/wLU.geojson'\n",
        "folium.plugins.AntPath([[14.255551421135223, 121.40053155722165],\n",
        " [14.25560218496419, 121.40065875769693],\n",
        " [14.25554900380996, 121.4006893107524],\n",
        " [14.257086268762137, 121.40483013217903],\n",
        " [14.257073577889471, 121.40491929721867],\n",
        " [14.256988972052795, 121.40498663864719],\n",
        " [14.255784554797117, 121.40548745180723],\n",
        " [14.25569544328394, 121.40551176725205],\n",
        " [14.255601176507838, 121.40555583901966],\n",
        " [14.255565184993202, 121.40564160492897],\n",
        " [14.255558047540973, 121.40572095276877],\n",
        " [14.255565412133947, 121.40582581312674],\n",
        " [14.25553151523232, 121.40583701177405],\n",
        " [14.255735781447484, 121.4063414735341],\n",
        " [14.25575730861749, 121.4063354936132],\n",
        " [14.256015012512279, 121.40715447355757],\n",
        " [14.256182433071501, 121.4076356612174],\n",
        " [14.256024079835228, 121.40775733068966],\n",
        " [14.25586572648885, 121.40791723913975],\n",
        " [14.255737696040754, 121.40816926876107],\n",
        " [14.255346685685154, 121.4082874764947],\n",
        " [14.255138884212798, 121.40836613332453],\n",
        " [14.254932312145044, 121.40843337222924],\n",
        " [14.25457062128828, 121.40863490527386],\n",
        " [14.254644943467937, 121.40884930515682],\n",
        " [14.254306701512434, 121.40900580142034]]).add_to(map_UMM)\n",
        "map_UMM"
      ],
      "metadata": {
        "colab": {
          "base_uri": "https://localhost:8080/",
          "height": 784
        },
        "id": "huCW8U2GnqDK",
        "outputId": "4cfdc435-4c54-4622-c230-458d7f50196a"
      },
      "execution_count": 19,
      "outputs": [
        {
          "output_type": "execute_result",
          "data": {
            "text/plain": [
              "<folium.folium.Map at 0x7e9a297e1ae0>"
            ],
            "text/html": [
              "<div style=\"width:100%;\"><div style=\"position:relative;width:100%;height:0;padding-bottom:60%;\"><span style=\"color:#565656\">Make this Notebook Trusted to load map: File -> Trust Notebook</span><iframe srcdoc=\"&lt;!DOCTYPE html&gt;\n",
              "&lt;html&gt;\n",
              "&lt;head&gt;\n",
              "    \n",
              "    &lt;meta http-equiv=&quot;content-type&quot; content=&quot;text/html; charset=UTF-8&quot; /&gt;\n",
              "    \n",
              "        &lt;script&gt;\n",
              "            L_NO_TOUCH = false;\n",
              "            L_DISABLE_3D = false;\n",
              "        &lt;/script&gt;\n",
              "    \n",
              "    &lt;style&gt;html, body {width: 100%;height: 100%;margin: 0;padding: 0;}&lt;/style&gt;\n",
              "    &lt;style&gt;#map {position:absolute;top:0;bottom:0;right:0;left:0;}&lt;/style&gt;\n",
              "    &lt;script src=&quot;https://cdn.jsdelivr.net/npm/leaflet@1.9.3/dist/leaflet.js&quot;&gt;&lt;/script&gt;\n",
              "    &lt;script src=&quot;https://code.jquery.com/jquery-3.7.1.min.js&quot;&gt;&lt;/script&gt;\n",
              "    &lt;script src=&quot;https://cdn.jsdelivr.net/npm/bootstrap@5.2.2/dist/js/bootstrap.bundle.min.js&quot;&gt;&lt;/script&gt;\n",
              "    &lt;script src=&quot;https://cdnjs.cloudflare.com/ajax/libs/Leaflet.awesome-markers/2.0.2/leaflet.awesome-markers.js&quot;&gt;&lt;/script&gt;\n",
              "    &lt;link rel=&quot;stylesheet&quot; href=&quot;https://cdn.jsdelivr.net/npm/leaflet@1.9.3/dist/leaflet.css&quot;/&gt;\n",
              "    &lt;link rel=&quot;stylesheet&quot; href=&quot;https://cdn.jsdelivr.net/npm/bootstrap@5.2.2/dist/css/bootstrap.min.css&quot;/&gt;\n",
              "    &lt;link rel=&quot;stylesheet&quot; href=&quot;https://netdna.bootstrapcdn.com/bootstrap/3.0.0/css/bootstrap-glyphicons.css&quot;/&gt;\n",
              "    &lt;link rel=&quot;stylesheet&quot; href=&quot;https://cdn.jsdelivr.net/npm/@fortawesome/fontawesome-free@6.2.0/css/all.min.css&quot;/&gt;\n",
              "    &lt;link rel=&quot;stylesheet&quot; href=&quot;https://cdnjs.cloudflare.com/ajax/libs/Leaflet.awesome-markers/2.0.2/leaflet.awesome-markers.css&quot;/&gt;\n",
              "    &lt;link rel=&quot;stylesheet&quot; href=&quot;https://cdn.jsdelivr.net/gh/python-visualization/folium/folium/templates/leaflet.awesome.rotate.min.css&quot;/&gt;\n",
              "    \n",
              "            &lt;meta name=&quot;viewport&quot; content=&quot;width=device-width,\n",
              "                initial-scale=1.0, maximum-scale=1.0, user-scalable=no&quot; /&gt;\n",
              "            &lt;style&gt;\n",
              "                #map_733f1532051938a9ad6fa071503d9f00 {\n",
              "                    position: relative;\n",
              "                    width: 100.0%;\n",
              "                    height: 100.0%;\n",
              "                    left: 0.0%;\n",
              "                    top: 0.0%;\n",
              "                }\n",
              "                .leaflet-container { font-size: 1rem; }\n",
              "            &lt;/style&gt;\n",
              "        \n",
              "    &lt;script src=&quot;https://cdn.jsdelivr.net/npm/leaflet-ant-path@1.1.2/dist/leaflet-ant-path.min.js&quot;&gt;&lt;/script&gt;\n",
              "&lt;/head&gt;\n",
              "&lt;body&gt;\n",
              "    \n",
              "    \n",
              "            &lt;div class=&quot;folium-map&quot; id=&quot;map_733f1532051938a9ad6fa071503d9f00&quot; &gt;&lt;/div&gt;\n",
              "        \n",
              "&lt;/body&gt;\n",
              "&lt;script&gt;\n",
              "    \n",
              "    \n",
              "            var map_733f1532051938a9ad6fa071503d9f00 = L.map(\n",
              "                &quot;map_733f1532051938a9ad6fa071503d9f00&quot;,\n",
              "                {\n",
              "                    center: [14.2555, 121.4036],\n",
              "                    crs: L.CRS.EPSG3857,\n",
              "                    zoom: 17,\n",
              "                    zoomControl: true,\n",
              "                    preferCanvas: false,\n",
              "                }\n",
              "            );\n",
              "\n",
              "            \n",
              "\n",
              "        \n",
              "    \n",
              "            var tile_layer_4eaaab99b0e75efb454e4c2d73d76613 = L.tileLayer(\n",
              "                &quot;https://tile.openstreetmap.org/{z}/{x}/{y}.png&quot;,\n",
              "                {&quot;attribution&quot;: &quot;\\u0026copy; \\u003ca href=\\&quot;https://www.openstreetmap.org/copyright\\&quot;\\u003eOpenStreetMap\\u003c/a\\u003e contributors&quot;, &quot;detectRetina&quot;: false, &quot;maxNativeZoom&quot;: 19, &quot;maxZoom&quot;: 19, &quot;minZoom&quot;: 0, &quot;noWrap&quot;: false, &quot;opacity&quot;: 1, &quot;subdomains&quot;: &quot;abc&quot;, &quot;tms&quot;: false}\n",
              "            );\n",
              "        \n",
              "    \n",
              "            tile_layer_4eaaab99b0e75efb454e4c2d73d76613.addTo(map_733f1532051938a9ad6fa071503d9f00);\n",
              "        \n",
              "    \n",
              "            tile_layer_4eaaab99b0e75efb454e4c2d73d76613.addTo(map_733f1532051938a9ad6fa071503d9f00);\n",
              "        \n",
              "    \n",
              "\n",
              "        function geo_json_fb43d7e193afed69dc20e06fe0c6fe2a_onEachFeature(feature, layer) {\n",
              "            layer.on({\n",
              "            });\n",
              "        };\n",
              "        var geo_json_fb43d7e193afed69dc20e06fe0c6fe2a = L.geoJson(null, {\n",
              "                onEachFeature: geo_json_fb43d7e193afed69dc20e06fe0c6fe2a_onEachFeature,\n",
              "            \n",
              "        });\n",
              "\n",
              "        function geo_json_fb43d7e193afed69dc20e06fe0c6fe2a_add (data) {\n",
              "            geo_json_fb43d7e193afed69dc20e06fe0c6fe2a\n",
              "                .addData(data);\n",
              "        }\n",
              "            geo_json_fb43d7e193afed69dc20e06fe0c6fe2a_add({&quot;features&quot;: [{&quot;geometry&quot;: {&quot;coordinates&quot;: [[121.40946312429327, 14.254529749271072], [121.40954224325077, 14.254315036773818], [121.4100370963613, 14.254492104886836], [121.40995078477107, 14.254716576862876], [121.40945880871323, 14.254529749271072]], &quot;type&quot;: &quot;LineString&quot;}, &quot;properties&quot;: {}, &quot;type&quot;: &quot;Feature&quot;}], &quot;type&quot;: &quot;FeatureCollection&quot;});\n",
              "        geo_json_fb43d7e193afed69dc20e06fe0c6fe2a.setStyle(function(feature) {return feature.properties.style;});\n",
              "\n",
              "        \n",
              "    \n",
              "            geo_json_fb43d7e193afed69dc20e06fe0c6fe2a.addTo(map_733f1532051938a9ad6fa071503d9f00);\n",
              "        \n",
              "    \n",
              "            tile_layer_4eaaab99b0e75efb454e4c2d73d76613.addTo(map_733f1532051938a9ad6fa071503d9f00);\n",
              "        \n",
              "    \n",
              "            geo_json_fb43d7e193afed69dc20e06fe0c6fe2a.addTo(map_733f1532051938a9ad6fa071503d9f00);\n",
              "        \n",
              "    \n",
              "            ant_path_dc240539807c2ebfcccebe37757c7531 = L.polyline.antPath(\n",
              "              [[14.255551421135223, 121.40053155722165], [14.25560218496419, 121.40065875769693], [14.25554900380996, 121.4006893107524], [14.257086268762137, 121.40483013217903], [14.257073577889471, 121.40491929721867], [14.256988972052795, 121.40498663864719], [14.255784554797117, 121.40548745180723], [14.25569544328394, 121.40551176725205], [14.255601176507838, 121.40555583901966], [14.255565184993202, 121.40564160492897], [14.255558047540973, 121.40572095276877], [14.255565412133947, 121.40582581312674], [14.25553151523232, 121.40583701177405], [14.255735781447484, 121.4063414735341], [14.25575730861749, 121.4063354936132], [14.256015012512279, 121.40715447355757], [14.256182433071501, 121.4076356612174], [14.256024079835228, 121.40775733068966], [14.25586572648885, 121.40791723913975], [14.255737696040754, 121.40816926876107], [14.255346685685154, 121.4082874764947], [14.255138884212798, 121.40836613332453], [14.254932312145044, 121.40843337222924], [14.25457062128828, 121.40863490527386], [14.254644943467937, 121.40884930515682], [14.254306701512434, 121.40900580142034]],\n",
              "              {&quot;bubblingMouseEvents&quot;: true, &quot;color&quot;: &quot;#0000FF&quot;, &quot;dashArray&quot;: [10, 20], &quot;dashOffset&quot;: null, &quot;delay&quot;: 400, &quot;fill&quot;: false, &quot;fillColor&quot;: &quot;#3388ff&quot;, &quot;fillOpacity&quot;: 0.2, &quot;fillRule&quot;: &quot;evenodd&quot;, &quot;hardwareAcceleration&quot;: false, &quot;lineCap&quot;: &quot;round&quot;, &quot;lineJoin&quot;: &quot;round&quot;, &quot;noClip&quot;: false, &quot;opacity&quot;: 0.5, &quot;paused&quot;: false, &quot;pulseColor&quot;: &quot;#FFFFFF&quot;, &quot;reverse&quot;: false, &quot;smoothFactor&quot;: 1.0, &quot;stroke&quot;: true, &quot;weight&quot;: 5}\n",
              "        ).addTo(map_733f1532051938a9ad6fa071503d9f00);\n",
              "        \n",
              "&lt;/script&gt;\n",
              "&lt;/html&gt;\" style=\"position:absolute;width:100%;height:100%;left:0;top:0;border:none !important;\" allowfullscreen webkitallowfullscreen mozallowfullscreen></iframe></div></div>"
            ]
          },
          "metadata": {},
          "execution_count": 19
        }
      ]
    }
  ]
}